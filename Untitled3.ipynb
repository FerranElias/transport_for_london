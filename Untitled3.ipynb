{
 "cells": [
  {
   "cell_type": "code",
   "execution_count": 2,
   "metadata": {
    "collapsed": false
   },
   "outputs": [
    {
     "name": "stdout",
     "output_type": "stream",
     "text": [
      "0\n",
      "1\n"
     ]
    },
    {
     "name": "stderr",
     "output_type": "stream",
     "text": [
      "C:\\Anaconda3\\lib\\site-packages\\IPython\\core\\interactiveshell.py:2723: DtypeWarning: Columns (3,5,6,8) have mixed types. Specify dtype option on import or set low_memory=False.\n",
      "  interactivity=interactivity, compiler=compiler, result=result)\n"
     ]
    },
    {
     "name": "stdout",
     "output_type": "stream",
     "text": [
      "2\n",
      "3\n",
      "4\n",
      "5\n",
      "6\n",
      "7\n",
      "8\n",
      "9\n",
      "10\n",
      "11\n",
      "12\n",
      "13\n",
      "14\n",
      "15\n",
      "16\n",
      "17\n",
      "18\n",
      "19\n"
     ]
    }
   ],
   "source": [
    "import pandas as pd\n",
    "import glob \n",
    "\n",
    "datapath_2012 = 'Y:\\\\okofm\\\\tfl\\\\journey_data\\\\cyclehireusagestats-2012\\\\'\n",
    "datapath_2013 = 'Y:\\\\okofm\\\\tfl\\\\journey_data\\\\cyclehireusagestats-2013\\\\'\n",
    "datapath_2014 = 'Y:\\\\okofm\\\\tfl\\\\journey_data\\\\cyclehireusagestats-2014\\\\'\n",
    "\n",
    "#load files for 2012\n",
    "count = 0\n",
    "d2012 = {}\n",
    "for filename in glob.glob(datapath_2012 + '*.csv'):\n",
    "    d2012[count] = pd.read_csv(filename)\n",
    "    print(count)\n",
    "    count += 1\n",
    "\n",
    "#load files for 2013\n",
    "count = 0\n",
    "d2013 = {}\n",
    "for filename in glob.glob(datapath_2013 + '*.csv'):\n",
    "    d2013[count] = pd.read_csv(filename)\n",
    "    print(count)\n",
    "    count += 1\n",
    "    \n",
    "#load files for 2014\n",
    "count = 0\n",
    "d2014 = {}\n",
    "for filename in glob.glob(datapath_2014 + '*.csv'):\n",
    "    d2014[count] = pd.read_csv(filename, encoding = \"ISO-8859-1\")\n",
    "    print(count)\n",
    "    count += 1"
   ]
  },
  {
   "cell_type": "code",
   "execution_count": 3,
   "metadata": {
    "collapsed": true
   },
   "outputs": [],
   "source": [
    "data2012 = d2012[0].append(d2012[1])\n",
    "for i in range(2,len(d2012)-1):\n",
    "    data2012 = data2012.append(d2012[i])\n",
    "    \n",
    "data2013 = d2013[0].append(d2013[1])\n",
    "for i in range(2,len(d2013)-1):\n",
    "    data2013 = data2013.append(d2013[i])\n",
    "    \n",
    "data2014 = d2014[0].append(d2014[1])\n",
    "for i in range(2,len(d2014)-1):\n",
    "    data2014 = data2014.append(d2014[i])\n",
    "\n",
    "data = data2012.append(data2013)\n",
    "data= data.append(data2014)\n",
    "\n",
    "data_random_sample = data.sample(frac=0.01)"
   ]
  },
  {
   "cell_type": "code",
   "execution_count": null,
   "metadata": {
    "collapsed": true
   },
   "outputs": [],
   "source": [
    "#transform duration into minutes\n",
    "data['Duration'] = data['Duration']/60\n",
    "\n",
    "#adding day of the week, year, quarter, month, week, day, hour, minute\n",
    "data['year'] = pd.to_datetime(data['Start Date'],format='%d/%m/%Y %H:%M').dt.year\n",
    "data['quarter'] = pd.to_datetime(data['Start Date'],format='%d/%m/%Y %H:%M').dt.quarter\n",
    "data['month'] = pd.to_datetime(data['Start Date'],format='%d/%m/%Y %H:%M').dt.month\n",
    "data['week'] =  pd.to_datetime(data['Start Date'],format='%d/%m/%Y %H:%M').dt.week\n",
    "data['day'] =  pd.to_datetime(data['Start Date'],format='%d/%m/%Y %H:%M').dt.day\n",
    "data['hour'] =  pd.to_datetime(data['Start Date'],format='%d/%m/%Y %H:%M').dt.hour\n",
    "data['minute'] =  pd.to_datetime(data['Start Date'],format='%d/%m/%Y %H:%M').dt.minute\n",
    "data['day_of_week'] = pd.to_datetime(data['Start Date'],format='%d/%m/%Y %H:%M').dt.dayofweek\n",
    "days = {0:'Mon',1:'Tues',2:'Weds',3:'Thurs',4:'Fri',5:'Sat',6:'Sun'}\n",
    "data['day_of_week'] = data['day_of_week'].apply(lambda x: days[x])"
   ]
  }
 ],
 "metadata": {
  "kernelspec": {
   "display_name": "Python 3",
   "language": "python",
   "name": "python3"
  },
  "language_info": {
   "codemirror_mode": {
    "name": "ipython",
    "version": 3
   },
   "file_extension": ".py",
   "mimetype": "text/x-python",
   "name": "python",
   "nbconvert_exporter": "python",
   "pygments_lexer": "ipython3",
   "version": "3.5.1"
  }
 },
 "nbformat": 4,
 "nbformat_minor": 0
}
