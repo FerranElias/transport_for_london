{
 "cells": [
  {
   "cell_type": "code",
   "execution_count": 14,
   "metadata": {
    "collapsed": false
   },
   "outputs": [],
   "source": [
    "import pandas as pd\n",
    "\n",
    "datapath_2013 = 'Y:\\\\okofm\\\\tfl\\\\journey_data\\\\cyclehireusagestats-2013\\\\'\n",
    "datapath_feed = 'Y:\\\\okofm\\\\tfl\\\\data\\\\'\n",
    "\n",
    "data1 = pd.read_csv(datapath_2013 + '1. Journey Data Extract 01Jan-05Jan13.csv')\n",
    "data2 = pd.read_csv(datapath_feed + 'tfl 2016_09_16_11_17.csv')\n",
    "\n",
    "data2 = data2[['name', 'lat', 'long']]\n",
    "\n",
    "#beware that merging will not be perfect. should keep track of information that is lost.\n",
    "data_merged = pd.merge(data1,data2,left_on='StartStation Name',right_on='name')"
   ]
  },
  {
   "cell_type": "code",
   "execution_count": 12,
   "metadata": {
    "collapsed": false
   },
   "outputs": [
    {
     "data": {
      "text/plain": [
       "88299"
      ]
     },
     "execution_count": 12,
     "metadata": {},
     "output_type": "execute_result"
    }
   ],
   "source": [
    "len(data1)"
   ]
  },
  {
   "cell_type": "code",
   "execution_count": 15,
   "metadata": {
    "collapsed": false
   },
   "outputs": [
    {
     "data": {
      "text/plain": [
       "78293"
      ]
     },
     "execution_count": 15,
     "metadata": {},
     "output_type": "execute_result"
    }
   ],
   "source": [
    "len(data_merged)"
   ]
  }
 ],
 "metadata": {
  "kernelspec": {
   "display_name": "Python 3",
   "language": "python",
   "name": "python3"
  },
  "language_info": {
   "codemirror_mode": {
    "name": "ipython",
    "version": 3
   },
   "file_extension": ".py",
   "mimetype": "text/x-python",
   "name": "python",
   "nbconvert_exporter": "python",
   "pygments_lexer": "ipython3",
   "version": "3.5.1"
  }
 },
 "nbformat": 4,
 "nbformat_minor": 0
}
